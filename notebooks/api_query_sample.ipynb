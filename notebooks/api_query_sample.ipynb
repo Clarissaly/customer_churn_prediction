{
 "cells": [
  {
   "cell_type": "code",
   "execution_count": 43,
   "metadata": {},
   "outputs": [],
   "source": [
    "import requests\n",
    "\n",
    "website = 'http://localhost:5000'"
   ]
  },
  {
   "cell_type": "markdown",
   "metadata": {},
   "source": [
    "# 1 Make prediction via HTTP POST API"
   ]
  },
  {
   "cell_type": "code",
   "execution_count": 44,
   "metadata": {},
   "outputs": [
    {
     "name": "stdout",
     "output_type": "stream",
     "text": [
      "<Response [200]>\n",
      "{\n",
      "  \"prediction\": \"Customer is unlikely to churn\"\n",
      "}\n",
      "\n"
     ]
    }
   ],
   "source": [
    "url = f'{website}/api/predict_one'\n",
    "\n",
    "model_inputs = {\n",
    "    \"num_referrals\": 5,\n",
    "    \"contract_type\": 'Two Year',\n",
    "    \"num_dependents\": 3,\n",
    "    \"tenure_months\": 3,\n",
    "    \"total_monthly_fee\": 83.90,\n",
    "    \"age\": 75,\n",
    "    \"zip_code\": 93010,\n",
    "    \"avg_long_distance_fee_monthly\": 7.38,\n",
    "    \"total_charges_quarter\": 267.40,\n",
    "    \"paperless_billing\": 1\n",
    "}\n",
    "\n",
    "response = requests.post(url, json = model_inputs)\n",
    "print(response)  # 200: OK/Success, 400: Bad Request, 500: Internal Server Error\n",
    "print(response.text)"
   ]
  }
 ],
 "metadata": {
  "kernelspec": {
   "display_name": "venv",
   "language": "python",
   "name": "python3"
  },
  "language_info": {
   "codemirror_mode": {
    "name": "ipython",
    "version": 3
   },
   "file_extension": ".py",
   "mimetype": "text/x-python",
   "name": "python",
   "nbconvert_exporter": "python",
   "pygments_lexer": "ipython3",
   "version": "3.11.4"
  }
 },
 "nbformat": 4,
 "nbformat_minor": 2
}
